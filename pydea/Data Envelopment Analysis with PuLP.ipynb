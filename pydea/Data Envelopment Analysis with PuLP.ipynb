{
 "metadata": {
  "name": "",
  "signature": "sha256:5811255413e5ff2da20616bfddb667ce4397cd0589878268473b8c250f1f6dbd"
 },
 "nbformat": 3,
 "nbformat_minor": 0,
 "worksheets": [
  {
   "cells": [
    {
     "cell_type": "markdown",
     "metadata": {},
     "source": [
      "#A data envelopment analysis module using PuLP\n",
      "\n",
      "###DEA\n",
      "It is most useful when a comparison is sought against \"best practices\" where the analyst doesn't\n",
      "want the frequency of poorly run operations to affect the analysis. DEA has been applied in\n",
      "many situations such as: health care (hospitals, doctors), education (schools, universities), banks,\n",
      "manufacturing, benchmarking, management evaluation, fast food restaurants, and retail stores.\n",
      "The analyzed data sets vary in size. Some analysts work on problems with as few as 15 or 20\n",
      "DMUs while others are tackling problems with over 10,000 DMUs.\n",
      "\n",
      "###[Strengths and limitations](http://mat.gsia.cmu.edu/classes/QUANT/NOTES/chap12.pdf)\n",
      "As the earlier list of applications suggests, DEA can be a powerful tool when used wisely. A few of\n",
      "the characteristics that make it powerful are:\n",
      "- DEA can handle multiple input and multiple output models.\n",
      "- It doesn't require an assumption of a functional form relating inputs to outputs.\n",
      "- DMUs are directly compared against a peer or combination of peers.\n",
      "- Inputs and outputs can have very different units. For example, X1 could be in units of lives\n",
      "saved and X2 could be in units of dollars without requiring an a priori tradeof between the\n",
      "two.\n",
      "\n",
      "The same characteristics that make DEA a powerful tool can also create problems. An analyst\n",
      "should keep these limitations in mind when choosing whether or not to use DEA.\n",
      "- Since DEA is an extreme point technique, noise (even symmetrical noise with zero mean)\n",
      "such as measurement error can cause significant problems.\n",
      "- DEA is good at estimating \"relative\" efficiency of a DMU but it converges very slowly to\n",
      "\"absolute\" efficiency. In other words, it can tell you how well you are doing compared to your\n",
      "peers but not compared to a \"theoretical maximum.\"\n",
      "- Since DEA is a nonparametric technique, statistical hypothesis tests are difficult and are the\n",
      "focus of ongoing research.\n",
      "- Since a standard formulation of DEA creates a separate linear program for each DMU, large\n",
      "problems can be computationally intensive.\n",
      "\n",
      "\n",
      "###References\n",
      "\n",
      "- [PuLP](http://www.coin-or.org/PuLP/pulp.html)\n",
      "- [Python classes docs](https://docs.python.org/2/tutorial/classes.html) and [hints for class design](http://stackoverflow.com/questions/4203163/how-do-i-design-a-class-in-python)\n",
      "- [Weight restrictions in DEA](http://www.wbs.ac.uk/downloads/working_papers/352.pdf)\n",
      "- [Overview of DEA](http://www.nhh.no/Files/Filer/institutter/for/seminars/accounting_management_science/2007_spring/300507.pdf)\n",
      "- [NZ Post example](https://secure.orsnz.org.nz/conf45/program/Papers/ORSNZ2010_Priddey.pdf)\n",
      "- [Non-discretionary inputs in healthcare](http://papers.ssrn.com/sol3/papers.cfm?abstract_id=952629)\n",
      "- [Non-discretionary inputs](): Performance Evaluation Accounting for Non-Discretionary Factors: The Assessment of Retailing Stores Using Data Envelopment Analysis, C.B. Vaz, A.S. Camanho, M.C. Portela, February 5, 2007\n"
     ]
    },
    {
     "cell_type": "markdown",
     "metadata": {},
     "source": [
      "##The linear programming problem"
     ]
    },
    {
     "cell_type": "code",
     "collapsed": false,
     "input": [
      "%%latex\n",
      "An input-oriented DEA model with constant returns to scale is solved with the following LP model:\n",
      "\n",
      "\\begin{equation}\n",
      "\\max e_{j_0} = \\sum_r u_r y_{rj_0} - \\mu_0\n",
      "\\end{equation}\n",
      "\n",
      "subject to\n",
      "\n",
      "\\begin{aligned}\n",
      "\\sum_i v_i x_{ij_0} &= 1 \\\\\n",
      "\\sum_r u_r y_{rj} - \\sum_i v_i x_{ij} - \\mu_0 &\\leq 0, \\quad j \\in 1, 2, \\ldots, n \\\\\n",
      "u_r, v_i &\\geq \\varepsilon\n",
      "\\end{aligned}\n",
      "\n",
      "where\n",
      "\n",
      "\\begin{aligned}\n",
      "x_{ij} &= \\mbox{quantity of input } i \\mbox{ for unit } j \\\\\n",
      "v_{i} &= \\mbox{weight attached to input } i \\\\\n",
      "y_{ij} &= \\mbox{quantity of output } r \\mbox{ for unit } j \\\\\n",
      "u_{i} &= \\mbox{weight attached to output } r \\\\\n",
      "e_{j_0} &= \\mbox{efficiency score} \\\\\n",
      "\\mu_0 &= \\mbox{VRS parameter} \\\\\n",
      "j_0 &= \\mbox{DMU under analysis} \\\\\n",
      "\\end{aligned}\n",
      "\n",
      "Input and output quantities are fixed by the data, weights are the decision variables and the efficiency score is the output."
     ],
     "language": "python",
     "metadata": {},
     "outputs": [
      {
       "latex": [
        "An input-oriented DEA model with constant returns to scale is solved with the following LP model:\n",
        "\n",
        "\\begin{equation}\n",
        "\\max e_{j_0} = \\sum_r u_r y_{rj_0} - \\mu_0\n",
        "\\end{equation}\n",
        "\n",
        "subject to\n",
        "\n",
        "\\begin{aligned}\n",
        "\\sum_i v_i x_{ij_0} &= 1 \\\\\n",
        "\\sum_r u_r y_{rj} - \\sum_i v_i x_{ij} - \\mu_0 &\\leq 0, \\quad j \\in 1, 2, \\ldots, n \\\\\n",
        "u_r, v_i &\\geq \\varepsilon\n",
        "\\end{aligned}\n",
        "\n",
        "where\n",
        "\n",
        "\\begin{aligned}\n",
        "x_{ij} &= \\mbox{quantity of input } i \\mbox{ for unit } j \\\\\n",
        "v_{i} &= \\mbox{weight attached to input } i \\\\\n",
        "y_{ij} &= \\mbox{quantity of output } r \\mbox{ for unit } j \\\\\n",
        "u_{i} &= \\mbox{weight attached to output } r \\\\\n",
        "e_{j_0} &= \\mbox{efficiency score} \\\\\n",
        "\\mu_0 &= \\mbox{VRS parameter} \\\\\n",
        "j_0 &= \\mbox{DMU under analysis} \\\\\n",
        "\\end{aligned}\n",
        "\n",
        "Input and output quantities are fixed by the data, weights are the decision variables and the efficiency score is the output."
       ],
       "metadata": {},
       "output_type": "display_data",
       "text": [
        "<IPython.core.display.Latex at 0x49fce80>"
       ]
      }
     ],
     "prompt_number": 69
    },
    {
     "cell_type": "markdown",
     "metadata": {},
     "source": [
      "##Set up tests"
     ]
    },
    {
     "cell_type": "markdown",
     "metadata": {},
     "source": [
      "Data below is from [this paper](http://www.wbs.ac.uk/downloads/working_papers/352.pdf) and is used to validate the outputs of the DEA routine.\n",
      "\n",
      "Output should be:\n",
      "\n",
      "    DMU u1       u2     u3     v1     v2     efficiency\n",
      "    A   0.0006   0      0.0014 0.01   0      96.20%\n",
      "    B   0        0.004  0.0024 0.0083 0      79.88%\n",
      "    C   0        0.0096 0.0057 0.02   0      100.00%\n",
      "    D   0        0.0068 0.0056 0.0121 0.011  100.00%\n",
      "    E   0        0.0051 0      0.0102 0      100.00%\n",
      "    F   0.0009   0      0.0081 0.0021 0.0699 100.00%"
     ]
    },
    {
     "cell_type": "code",
     "collapsed": false,
     "input": [
      "%%file tests/dea_tests.py\n",
      "\n",
      "import nose\n",
      "import numpy as np\n",
      "from pydea.dea import DEA\n",
      "from numpy.testing import assert_array_equal\n",
      "\n",
      "\n",
      "class TestDEA():\n",
      "    @classmethod\n",
      "    def setup_class(cls):\n",
      "        \"\"\"This method is run once for each class before any tests are run\"\"\"\n",
      "        cls.inputs = np.array([[100, 70], [120, 123], [50, 20], [67, 17], [98, 20], [76, 12]])\n",
      "        cls.outputs = np.array([[1540, 154, 59], [1408, 186, 23 ], [690, 59, 76], [674, 73, 90], [1686, 197, 12], [982, 63, 15]])\n",
      "        \n",
      "    def setUp(self):\n",
      "        \"\"\"This method is run once before _each_ test method is executed\"\"\"\n",
      "        pass\n",
      "        \n",
      "    def teardown(self):\n",
      "        \"\"\"This method is run once after _each_ test method is executed\"\"\"\n",
      "        pass\n",
      "    \n",
      "    def test_init_attributes(self):\n",
      "        \"\"\"Test attributes of init\"\"\"\n",
      "        myprob = DEA(self.inputs, self.outputs)\n",
      "        np.testing.assert_array_equal(myprob.inputs, self.inputs)\n",
      "        np.testing.assert_array_equal(myprob.outputs, self.outputs)\n",
      "        nose.tools.assert_equal(myprob.J, 6)\n",
      "        nose.tools.assert_equal(myprob.I, 2)\n",
      "        nose.tools.assert_equal(myprob.R, 3)\n",
      "        \n",
      "    @nose.tools.raises(AssertionError)\n",
      "    def test_init_asserts(self):\n",
      "        \"\"\"Test asserts of init\"\"\"\n",
      "        myprob = DEA(np.array([[100]]), np.array([[1], [2]]))"
     ],
     "language": "python",
     "metadata": {},
     "outputs": [
      {
       "output_type": "stream",
       "stream": "stdout",
       "text": [
        "Overwriting tests/dea_tests.py\n"
       ]
      }
     ],
     "prompt_number": 17
    },
    {
     "cell_type": "markdown",
     "metadata": {},
     "source": [
      "###Run nosetests"
     ]
    },
    {
     "cell_type": "code",
     "collapsed": false,
     "input": [
      "!nosetests"
     ],
     "language": "python",
     "metadata": {},
     "outputs": [
      {
       "output_type": "stream",
       "stream": "stderr",
       "text": [
        "..\n",
        "----------------------------------------------------------------------\n",
        "Ran 2 tests in 0.031s\n",
        "\n",
        "OK\n"
       ]
      }
     ],
     "prompt_number": 18
    },
    {
     "cell_type": "markdown",
     "metadata": {},
     "source": [
      "##Class to solve the problem with PuLP"
     ]
    },
    {
     "cell_type": "code",
     "collapsed": false,
     "input": [
      "#%%file dea.py\n",
      "import numpy as np\n",
      "import pulp\n",
      "\n",
      "\n",
      "class DEA:\n",
      "    \"\"\"\n",
      "    A container for the elements of a data envelopment analysis problem. Sets up the linear programmes and solves them with pulp.\n",
      "    \n",
      "    Requires:\n",
      "    \n",
      "        inputs: a numpy array of the inputs to the DMUs\n",
      "        outputs: a numpy array of the outputs from the DMUs\n",
      "        kind: 'VRS' or 'CRS'    \n",
      "    \"\"\"\n",
      "    def __init__(self, inputs, outputs, kind='CRS'):\n",
      "        self.inputs = inputs\n",
      "        self.outputs = outputs\n",
      "        self.returns = kind\n",
      "               \n",
      "        self.J, self.I = self.inputs.shape  # no of firms, inputs\n",
      "        self.R = self.outputs.shape[1]  # no of outputs\n",
      "        self._i = np.arange(self.I)  # inputs\n",
      "        self._r = np.arange(self.R)  # outputs\n",
      "        self._j = np.arange(self.J)  # DMUs\n",
      "        \n",
      "        assert self.inputs.shape[0] == self.outputs.shape[0]  # check the inputs and outputs have the same number of DMUs\n",
      "        \n",
      "        self.dmus = self._create_problems()  # creates dictionary of pulp.LpProblem objects for the DMUs\n",
      "\n",
      "    def _create_problems(self):\n",
      "        dmu_dict = {}\n",
      "        for j0 in np.arange(self.inputs.shape[0]):\n",
      "            dmu_dict[j0] = self._make_problem(self.inputs, self.outputs, j0, self.returns)\n",
      "        return dmu_dict\n",
      "    \n",
      "    def _make_problem(self, inputs, outputs, j0, returns):\n",
      "        ##Set up pulp\n",
      "        prob = pulp.LpProblem(\"\".join([\"DMU_\", str(j0)]), pulp.LpMaximize)\n",
      "        self.inputWeights = pulp.LpVariable.dicts(\"inputWeight\", (self._j, self._i), lowBound=0)\n",
      "        self.outputWeights = pulp.LpVariable.dicts(\"outputWeight\", (self._j, self._r), lowBound=0)\n",
      "                \n",
      "        ##Set returns to scale\n",
      "        if returns == \"CRS\":\n",
      "            w = 0\n",
      "        elif returns == \"VRS\":\n",
      "            w = pulp.LpVariable.dicts(\"w\", (self._j, self._r))\n",
      "        else:\n",
      "            raise Exception(ValueError)\n",
      "\n",
      "        ##Set up objective function\n",
      "        prob += pulp.LpAffineExpression([(self.outputWeights[j0][r1], self.outputs[j0][r1]) for r1 in self._r]) - w\n",
      "\n",
      "        ##Set up constraints\n",
      "        prob += pulp.LpAffineExpression([(self.inputWeights[j0][i1], self.inputs[j0][i1]) for i1 in self._i]) == 1, \"Norm_constraint\"\n",
      "        for j1 in self._j:\n",
      "            prob += self._dmu_constraint(j0, j1, self._i, self._r)  - w <= 0, \"\".join([\"DMU_constraint_\", str(j1)])\n",
      "        return prob\n",
      "    \n",
      "    def _dmu_constraint(self, j0, j1, i, r):\n",
      "        eOut = pulp.LpAffineExpression([(self.outputWeights[j0][r1], self.outputs[j1][r1]) for r1 in r])\n",
      "        eIn = pulp.LpAffineExpression([(self.inputWeights[j0][i1], self.inputs[j1][i1]) for i1 in i])\n",
      "        return eOut - eIn     \n",
      "\n",
      "    def solve(self):\n",
      "        self.status = {}\n",
      "        self.weights = {}\n",
      "        self.efficiency = {}\n",
      "        for ind, problem in self.dmus.iteritems():\n",
      "            problem.solve()\n",
      "            self.status[ind] = pulp.LpStatus[problem.status]\n",
      "            self.weights[ind] = {}\n",
      "            for v in problem.variables():\n",
      "                self.weights[ind][v.name] = v.varValue\n",
      "            self.efficiency[ind] = pulp.value(problem.objective)"
     ],
     "language": "python",
     "metadata": {},
     "outputs": [
      {
       "output_type": "stream",
       "stream": "stdout",
       "text": [
        "Overwriting dea.py\n"
       ]
      }
     ],
     "prompt_number": 19
    },
    {
     "cell_type": "markdown",
     "metadata": {},
     "source": [
      "##Test junk"
     ]
    },
    {
     "cell_type": "code",
     "collapsed": false,
     "input": [
      "inputs = np.array([[100, 70], [120, 123], [50, 20], [67, 17], [98, 20], [76, 12]])\n",
      "outputs = np.array([[1540, 154, 59], [1408, 186, 23 ], [690, 59, 76], [674, 73, 90], [1686, 197, 12], [982, 63, 15]])"
     ],
     "language": "python",
     "metadata": {},
     "outputs": []
    },
    {
     "cell_type": "code",
     "collapsed": false,
     "input": [
      "%%timeit\n",
      "myprob = DEA(inputs, outputs, kind='VRS')\n",
      "myprob.solve()\n",
      "#myprob.status"
     ],
     "language": "python",
     "metadata": {},
     "outputs": [
      {
       "output_type": "stream",
       "stream": "stdout",
       "text": [
        "1 loops, best of 3: 212 ms per loop\n"
       ]
      }
     ],
     "prompt_number": 22
    },
    {
     "cell_type": "code",
     "collapsed": true,
     "input": [
      "myprob.efficiency"
     ],
     "language": "python",
     "metadata": {},
     "outputs": [
      {
       "metadata": {},
       "output_type": "pyout",
       "prompt_number": 16,
       "text": [
        "{0: 0.9999999989,\n",
        " 1: 0.8154810081999999,\n",
        " 2: 1.0,\n",
        " 3: 1.000000003,\n",
        " 4: 1.0000000026,\n",
        " 5: 1.0}"
       ]
      }
     ],
     "prompt_number": 16
    },
    {
     "cell_type": "code",
     "collapsed": false,
     "input": [],
     "language": "python",
     "metadata": {},
     "outputs": []
    },
    {
     "cell_type": "code",
     "collapsed": false,
     "input": [],
     "language": "python",
     "metadata": {},
     "outputs": []
    },
    {
     "cell_type": "code",
     "collapsed": false,
     "input": [],
     "language": "python",
     "metadata": {},
     "outputs": []
    },
    {
     "cell_type": "markdown",
     "metadata": {},
     "source": [
      "##Profiling the code"
     ]
    },
    {
     "cell_type": "code",
     "collapsed": false,
     "input": [
      "import cProfile, pstats\n",
      "\n",
      "def runmake():\n",
      "    inputs = np.array([[100, 70], [120, 123], [50, 20], [67, 17], [98, 20], [76, 12]])\n",
      "    outputs = np.array([[1540, 154, 59], [1408, 186, 23 ], [690, 59, 76], [674, 73, 90], [1686, 197, 12], [982, 63, 15]])\n",
      "    return DEA(inputs, outputs, kind='VRS')\n",
      "\n",
      "dea_stats = cProfile.run(\"runmake()\", 'deastats')"
     ],
     "language": "python",
     "metadata": {},
     "outputs": [],
     "prompt_number": 17
    },
    {
     "cell_type": "code",
     "collapsed": false,
     "input": [
      "p = pstats.Stats('deastats')\n",
      "p.strip_dirs().sort_stats('cumtime').print_stats(10)"
     ],
     "language": "python",
     "metadata": {},
     "outputs": [
      {
       "output_type": "stream",
       "stream": "stdout",
       "text": [
        "Mon Aug 25 18:27:31 2014    deastats\n",
        "\n",
        "         35543 function calls (34427 primitive calls) in 0.104 seconds\n",
        "\n",
        "   Ordered by: cumulative time\n",
        "   List reduced from 52 to 10 due to restriction <10>\n",
        "\n",
        "   ncalls  tottime  percall  cumtime  percall filename:lineno(function)\n",
        "        1    0.000    0.000    0.104    0.104 <string>:1(<module>)\n",
        "        1    0.000    0.000    0.104    0.104 <ipython-input-17-b8254aa31928>:3(runmake)\n",
        "        1    0.000    0.000    0.104    0.104 <ipython-input-4-b4f9f783ec27>:16(__init__)\n",
        "        1    0.000    0.000    0.104    0.104 <ipython-input-4-b4f9f783ec27>:31(_create_problems)\n",
        "        6    0.002    0.000    0.104    0.017 <ipython-input-4-b4f9f783ec27>:37(_make_problem)\n",
        "      246    0.004    0.000    0.052    0.000 pulp.py:532(__init__)\n",
        "      120    0.000    0.000    0.048    0.000 pulp.py:752(__sub__)\n",
        "      252    0.005    0.000    0.040    0.000 collections.py:38(__init__)\n",
        "      252    0.007    0.000    0.033    0.000 _abcoll.py:526(update)\n",
        "       36    0.000    0.000    0.031    0.001 pulp.py:811(__le__)\n",
        "\n",
        "\n"
       ]
      },
      {
       "metadata": {},
       "output_type": "pyout",
       "prompt_number": 18,
       "text": [
        "<pstats.Stats instance at 0x00000000040573C8>"
       ]
      }
     ],
     "prompt_number": 18
    },
    {
     "cell_type": "code",
     "collapsed": false,
     "input": [
      "def runsolve():\n",
      "    inputs = np.array([[100, 70], [120, 123], [50, 20], [67, 17], [98, 20], [76, 12]])\n",
      "    outputs = np.array([[1540, 154, 59], [1408, 186, 23 ], [690, 59, 76], [674, 73, 90], [1686, 197, 12], [982, 63, 15]])\n",
      "    myprob = DEA(inputs, outputs, kind='VRS')\n",
      "    return myprob.solve()\n",
      "\n",
      "dea_stats2 = cProfile.run(\"runsolve()\", 'deastats')"
     ],
     "language": "python",
     "metadata": {},
     "outputs": [
      {
       "ename": "AttributeError",
       "evalue": "'numpy.int32' object has no attribute 'name'",
       "output_type": "pyerr",
       "traceback": [
        "\u001b[1;31m---------------------------------------------------------------------------\u001b[0m\n\u001b[1;31mAttributeError\u001b[0m                            Traceback (most recent call last)",
        "\u001b[1;32m<ipython-input-25-5f8e4da49609>\u001b[0m in \u001b[0;36m<module>\u001b[1;34m()\u001b[0m\n\u001b[0;32m      5\u001b[0m     \u001b[1;32mreturn\u001b[0m \u001b[0mmyprob\u001b[0m\u001b[1;33m.\u001b[0m\u001b[0msolve\u001b[0m\u001b[1;33m(\u001b[0m\u001b[1;33m)\u001b[0m\u001b[1;33m\u001b[0m\u001b[0m\n\u001b[0;32m      6\u001b[0m \u001b[1;33m\u001b[0m\u001b[0m\n\u001b[1;32m----> 7\u001b[1;33m \u001b[0mdea_stats2\u001b[0m \u001b[1;33m=\u001b[0m \u001b[0mcProfile\u001b[0m\u001b[1;33m.\u001b[0m\u001b[0mrun\u001b[0m\u001b[1;33m(\u001b[0m\u001b[1;34m\"runsolve()\"\u001b[0m\u001b[1;33m,\u001b[0m \u001b[1;34m'deastats'\u001b[0m\u001b[1;33m)\u001b[0m\u001b[1;33m\u001b[0m\u001b[0m\n\u001b[0m",
        "\u001b[1;32mC:\\Anaconda\\lib\\cProfile.pyc\u001b[0m in \u001b[0;36mrun\u001b[1;34m(statement, filename, sort)\u001b[0m\n\u001b[0;32m     27\u001b[0m     \u001b[1;32mtry\u001b[0m\u001b[1;33m:\u001b[0m\u001b[1;33m\u001b[0m\u001b[0m\n\u001b[0;32m     28\u001b[0m         \u001b[1;32mtry\u001b[0m\u001b[1;33m:\u001b[0m\u001b[1;33m\u001b[0m\u001b[0m\n\u001b[1;32m---> 29\u001b[1;33m             \u001b[0mprof\u001b[0m \u001b[1;33m=\u001b[0m \u001b[0mprof\u001b[0m\u001b[1;33m.\u001b[0m\u001b[0mrun\u001b[0m\u001b[1;33m(\u001b[0m\u001b[0mstatement\u001b[0m\u001b[1;33m)\u001b[0m\u001b[1;33m\u001b[0m\u001b[0m\n\u001b[0m\u001b[0;32m     30\u001b[0m         \u001b[1;32mexcept\u001b[0m \u001b[0mSystemExit\u001b[0m\u001b[1;33m:\u001b[0m\u001b[1;33m\u001b[0m\u001b[0m\n\u001b[0;32m     31\u001b[0m             \u001b[1;32mpass\u001b[0m\u001b[1;33m\u001b[0m\u001b[0m\n",
        "\u001b[1;32mC:\\Anaconda\\lib\\cProfile.pyc\u001b[0m in \u001b[0;36mrun\u001b[1;34m(self, cmd)\u001b[0m\n\u001b[0;32m    133\u001b[0m         \u001b[1;32mimport\u001b[0m \u001b[0m__main__\u001b[0m\u001b[1;33m\u001b[0m\u001b[0m\n\u001b[0;32m    134\u001b[0m         \u001b[0mdict\u001b[0m \u001b[1;33m=\u001b[0m \u001b[0m__main__\u001b[0m\u001b[1;33m.\u001b[0m\u001b[0m__dict__\u001b[0m\u001b[1;33m\u001b[0m\u001b[0m\n\u001b[1;32m--> 135\u001b[1;33m         \u001b[1;32mreturn\u001b[0m \u001b[0mself\u001b[0m\u001b[1;33m.\u001b[0m\u001b[0mrunctx\u001b[0m\u001b[1;33m(\u001b[0m\u001b[0mcmd\u001b[0m\u001b[1;33m,\u001b[0m \u001b[0mdict\u001b[0m\u001b[1;33m,\u001b[0m \u001b[0mdict\u001b[0m\u001b[1;33m)\u001b[0m\u001b[1;33m\u001b[0m\u001b[0m\n\u001b[0m\u001b[0;32m    136\u001b[0m \u001b[1;33m\u001b[0m\u001b[0m\n\u001b[0;32m    137\u001b[0m     \u001b[1;32mdef\u001b[0m \u001b[0mrunctx\u001b[0m\u001b[1;33m(\u001b[0m\u001b[0mself\u001b[0m\u001b[1;33m,\u001b[0m \u001b[0mcmd\u001b[0m\u001b[1;33m,\u001b[0m \u001b[0mglobals\u001b[0m\u001b[1;33m,\u001b[0m \u001b[0mlocals\u001b[0m\u001b[1;33m)\u001b[0m\u001b[1;33m:\u001b[0m\u001b[1;33m\u001b[0m\u001b[0m\n",
        "\u001b[1;32mC:\\Anaconda\\lib\\cProfile.pyc\u001b[0m in \u001b[0;36mrunctx\u001b[1;34m(self, cmd, globals, locals)\u001b[0m\n\u001b[0;32m    138\u001b[0m         \u001b[0mself\u001b[0m\u001b[1;33m.\u001b[0m\u001b[0menable\u001b[0m\u001b[1;33m(\u001b[0m\u001b[1;33m)\u001b[0m\u001b[1;33m\u001b[0m\u001b[0m\n\u001b[0;32m    139\u001b[0m         \u001b[1;32mtry\u001b[0m\u001b[1;33m:\u001b[0m\u001b[1;33m\u001b[0m\u001b[0m\n\u001b[1;32m--> 140\u001b[1;33m             \u001b[1;32mexec\u001b[0m \u001b[0mcmd\u001b[0m \u001b[1;32min\u001b[0m \u001b[0mglobals\u001b[0m\u001b[1;33m,\u001b[0m \u001b[0mlocals\u001b[0m\u001b[1;33m\u001b[0m\u001b[0m\n\u001b[0m\u001b[0;32m    141\u001b[0m         \u001b[1;32mfinally\u001b[0m\u001b[1;33m:\u001b[0m\u001b[1;33m\u001b[0m\u001b[0m\n\u001b[0;32m    142\u001b[0m             \u001b[0mself\u001b[0m\u001b[1;33m.\u001b[0m\u001b[0mdisable\u001b[0m\u001b[1;33m(\u001b[0m\u001b[1;33m)\u001b[0m\u001b[1;33m\u001b[0m\u001b[0m\n",
        "\u001b[1;32m<string>\u001b[0m in \u001b[0;36m<module>\u001b[1;34m()\u001b[0m\n",
        "\u001b[1;32m<ipython-input-25-5f8e4da49609>\u001b[0m in \u001b[0;36mrunsolve\u001b[1;34m()\u001b[0m\n\u001b[0;32m      3\u001b[0m     \u001b[0moutputs\u001b[0m \u001b[1;33m=\u001b[0m \u001b[0mnp\u001b[0m\u001b[1;33m.\u001b[0m\u001b[0marray\u001b[0m\u001b[1;33m(\u001b[0m\u001b[1;33m[\u001b[0m\u001b[1;33m[\u001b[0m\u001b[1;36m1540\u001b[0m\u001b[1;33m,\u001b[0m \u001b[1;36m154\u001b[0m\u001b[1;33m,\u001b[0m \u001b[1;36m59\u001b[0m\u001b[1;33m]\u001b[0m\u001b[1;33m,\u001b[0m \u001b[1;33m[\u001b[0m\u001b[1;36m1408\u001b[0m\u001b[1;33m,\u001b[0m \u001b[1;36m186\u001b[0m\u001b[1;33m,\u001b[0m \u001b[1;36m23\u001b[0m \u001b[1;33m]\u001b[0m\u001b[1;33m,\u001b[0m \u001b[1;33m[\u001b[0m\u001b[1;36m690\u001b[0m\u001b[1;33m,\u001b[0m \u001b[1;36m59\u001b[0m\u001b[1;33m,\u001b[0m \u001b[1;36m76\u001b[0m\u001b[1;33m]\u001b[0m\u001b[1;33m,\u001b[0m \u001b[1;33m[\u001b[0m\u001b[1;36m674\u001b[0m\u001b[1;33m,\u001b[0m \u001b[1;36m73\u001b[0m\u001b[1;33m,\u001b[0m \u001b[1;36m90\u001b[0m\u001b[1;33m]\u001b[0m\u001b[1;33m,\u001b[0m \u001b[1;33m[\u001b[0m\u001b[1;36m1686\u001b[0m\u001b[1;33m,\u001b[0m \u001b[1;36m197\u001b[0m\u001b[1;33m,\u001b[0m \u001b[1;36m12\u001b[0m\u001b[1;33m]\u001b[0m\u001b[1;33m,\u001b[0m \u001b[1;33m[\u001b[0m\u001b[1;36m982\u001b[0m\u001b[1;33m,\u001b[0m \u001b[1;36m63\u001b[0m\u001b[1;33m,\u001b[0m \u001b[1;36m15\u001b[0m\u001b[1;33m]\u001b[0m\u001b[1;33m]\u001b[0m\u001b[1;33m)\u001b[0m\u001b[1;33m\u001b[0m\u001b[0m\n\u001b[0;32m      4\u001b[0m     \u001b[0mmyprob\u001b[0m \u001b[1;33m=\u001b[0m \u001b[0mDEA\u001b[0m\u001b[1;33m(\u001b[0m\u001b[0minputs\u001b[0m\u001b[1;33m,\u001b[0m \u001b[0moutputs\u001b[0m\u001b[1;33m,\u001b[0m \u001b[0mkind\u001b[0m\u001b[1;33m=\u001b[0m\u001b[1;34m'VRS'\u001b[0m\u001b[1;33m)\u001b[0m\u001b[1;33m\u001b[0m\u001b[0m\n\u001b[1;32m----> 5\u001b[1;33m     \u001b[1;32mreturn\u001b[0m \u001b[0mmyprob\u001b[0m\u001b[1;33m.\u001b[0m\u001b[0msolve\u001b[0m\u001b[1;33m(\u001b[0m\u001b[1;33m)\u001b[0m\u001b[1;33m\u001b[0m\u001b[0m\n\u001b[0m\u001b[0;32m      6\u001b[0m \u001b[1;33m\u001b[0m\u001b[0m\n\u001b[0;32m      7\u001b[0m \u001b[0mdea_stats2\u001b[0m \u001b[1;33m=\u001b[0m \u001b[0mcProfile\u001b[0m\u001b[1;33m.\u001b[0m\u001b[0mrun\u001b[0m\u001b[1;33m(\u001b[0m\u001b[1;34m\"runsolve()\"\u001b[0m\u001b[1;33m,\u001b[0m \u001b[1;34m'deastats'\u001b[0m\u001b[1;33m)\u001b[0m\u001b[1;33m\u001b[0m\u001b[0m\n",
        "\u001b[1;32m<ipython-input-19-ce26e997889f>\u001b[0m in \u001b[0;36msolve\u001b[1;34m(self)\u001b[0m\n\u001b[0;32m     68\u001b[0m         \u001b[0mself\u001b[0m\u001b[1;33m.\u001b[0m\u001b[0mefficiency\u001b[0m \u001b[1;33m=\u001b[0m \u001b[1;33m{\u001b[0m\u001b[1;33m}\u001b[0m\u001b[1;33m\u001b[0m\u001b[0m\n\u001b[0;32m     69\u001b[0m         \u001b[1;32mfor\u001b[0m \u001b[0mind\u001b[0m\u001b[1;33m,\u001b[0m \u001b[0mproblem\u001b[0m \u001b[1;32min\u001b[0m \u001b[0mself\u001b[0m\u001b[1;33m.\u001b[0m\u001b[0mdmus\u001b[0m\u001b[1;33m.\u001b[0m\u001b[0miteritems\u001b[0m\u001b[1;33m(\u001b[0m\u001b[1;33m)\u001b[0m\u001b[1;33m:\u001b[0m\u001b[1;33m\u001b[0m\u001b[0m\n\u001b[1;32m---> 70\u001b[1;33m             \u001b[0mproblem\u001b[0m\u001b[1;33m.\u001b[0m\u001b[0msolve\u001b[0m\u001b[1;33m(\u001b[0m\u001b[1;33m)\u001b[0m\u001b[1;33m\u001b[0m\u001b[0m\n\u001b[0m\u001b[0;32m     71\u001b[0m             \u001b[0mself\u001b[0m\u001b[1;33m.\u001b[0m\u001b[0mstatus\u001b[0m\u001b[1;33m[\u001b[0m\u001b[0mind\u001b[0m\u001b[1;33m]\u001b[0m \u001b[1;33m=\u001b[0m \u001b[0mpulp\u001b[0m\u001b[1;33m.\u001b[0m\u001b[0mLpStatus\u001b[0m\u001b[1;33m[\u001b[0m\u001b[0mproblem\u001b[0m\u001b[1;33m.\u001b[0m\u001b[0mstatus\u001b[0m\u001b[1;33m]\u001b[0m\u001b[1;33m\u001b[0m\u001b[0m\n\u001b[0;32m     72\u001b[0m             \u001b[0mself\u001b[0m\u001b[1;33m.\u001b[0m\u001b[0mweights\u001b[0m\u001b[1;33m[\u001b[0m\u001b[0mind\u001b[0m\u001b[1;33m]\u001b[0m \u001b[1;33m=\u001b[0m \u001b[1;33m{\u001b[0m\u001b[1;33m}\u001b[0m\u001b[1;33m\u001b[0m\u001b[0m\n",
        "\u001b[1;32mC:\\Anaconda\\lib\\site-packages\\pulp\\pulp.pyc\u001b[0m in \u001b[0;36msolve\u001b[1;34m(self, solver, **kwargs)\u001b[0m\n\u001b[0;32m   1617\u001b[0m         \u001b[1;31m#time it\u001b[0m\u001b[1;33m\u001b[0m\u001b[1;33m\u001b[0m\u001b[0m\n\u001b[0;32m   1618\u001b[0m         \u001b[0mself\u001b[0m\u001b[1;33m.\u001b[0m\u001b[0msolutionTime\u001b[0m \u001b[1;33m=\u001b[0m \u001b[1;33m-\u001b[0m\u001b[0mclock\u001b[0m\u001b[1;33m(\u001b[0m\u001b[1;33m)\u001b[0m\u001b[1;33m\u001b[0m\u001b[0m\n\u001b[1;32m-> 1619\u001b[1;33m         \u001b[0mstatus\u001b[0m \u001b[1;33m=\u001b[0m \u001b[0msolver\u001b[0m\u001b[1;33m.\u001b[0m\u001b[0mactualSolve\u001b[0m\u001b[1;33m(\u001b[0m\u001b[0mself\u001b[0m\u001b[1;33m,\u001b[0m \u001b[1;33m**\u001b[0m\u001b[0mkwargs\u001b[0m\u001b[1;33m)\u001b[0m\u001b[1;33m\u001b[0m\u001b[0m\n\u001b[0m\u001b[0;32m   1620\u001b[0m         \u001b[0mself\u001b[0m\u001b[1;33m.\u001b[0m\u001b[0msolutionTime\u001b[0m \u001b[1;33m+=\u001b[0m \u001b[0mclock\u001b[0m\u001b[1;33m(\u001b[0m\u001b[1;33m)\u001b[0m\u001b[1;33m\u001b[0m\u001b[0m\n\u001b[0;32m   1621\u001b[0m         \u001b[0mself\u001b[0m\u001b[1;33m.\u001b[0m\u001b[0mrestoreObjective\u001b[0m\u001b[1;33m(\u001b[0m\u001b[0mwasNone\u001b[0m\u001b[1;33m,\u001b[0m \u001b[0mdummyVar\u001b[0m\u001b[1;33m)\u001b[0m\u001b[1;33m\u001b[0m\u001b[0m\n",
        "\u001b[1;32mC:\\Anaconda\\lib\\site-packages\\pulp\\solvers.pyc\u001b[0m in \u001b[0;36mactualSolve\u001b[1;34m(self, lp, **kwargs)\u001b[0m\n\u001b[0;32m   1281\u001b[0m     \u001b[1;32mdef\u001b[0m \u001b[0mactualSolve\u001b[0m\u001b[1;33m(\u001b[0m\u001b[0mself\u001b[0m\u001b[1;33m,\u001b[0m \u001b[0mlp\u001b[0m\u001b[1;33m,\u001b[0m \u001b[1;33m**\u001b[0m\u001b[0mkwargs\u001b[0m\u001b[1;33m)\u001b[0m\u001b[1;33m:\u001b[0m\u001b[1;33m\u001b[0m\u001b[0m\n\u001b[0;32m   1282\u001b[0m         \u001b[1;34m\"\"\"Solve a well formulated lp problem\"\"\"\u001b[0m\u001b[1;33m\u001b[0m\u001b[0m\n\u001b[1;32m-> 1283\u001b[1;33m         \u001b[1;32mreturn\u001b[0m \u001b[0mself\u001b[0m\u001b[1;33m.\u001b[0m\u001b[0msolve_CBC\u001b[0m\u001b[1;33m(\u001b[0m\u001b[0mlp\u001b[0m\u001b[1;33m,\u001b[0m \u001b[1;33m**\u001b[0m\u001b[0mkwargs\u001b[0m\u001b[1;33m)\u001b[0m\u001b[1;33m\u001b[0m\u001b[0m\n\u001b[0m\u001b[0;32m   1284\u001b[0m \u001b[1;33m\u001b[0m\u001b[0m\n\u001b[0;32m   1285\u001b[0m     \u001b[1;32mdef\u001b[0m \u001b[0mavailable\u001b[0m\u001b[1;33m(\u001b[0m\u001b[0mself\u001b[0m\u001b[1;33m)\u001b[0m\u001b[1;33m:\u001b[0m\u001b[1;33m\u001b[0m\u001b[0m\n",
        "\u001b[1;32mC:\\Anaconda\\lib\\site-packages\\pulp\\solvers.pyc\u001b[0m in \u001b[0;36msolve_CBC\u001b[1;34m(self, lp, use_mps)\u001b[0m\n\u001b[0;32m   1303\u001b[0m         \u001b[1;32mif\u001b[0m \u001b[0muse_mps\u001b[0m\u001b[1;33m:\u001b[0m\u001b[1;33m\u001b[0m\u001b[0m\n\u001b[0;32m   1304\u001b[0m             vs, variablesNames, constraintsNames, objectiveName = lp.writeMPS(\n\u001b[1;32m-> 1305\u001b[1;33m                         tmpMps, rename = 1)\n\u001b[0m\u001b[0;32m   1306\u001b[0m             \u001b[0mcmds\u001b[0m \u001b[1;33m=\u001b[0m \u001b[1;34m' '\u001b[0m\u001b[1;33m+\u001b[0m\u001b[0mtmpMps\u001b[0m\u001b[1;33m+\u001b[0m\u001b[1;34m\" \"\u001b[0m\u001b[1;33m\u001b[0m\u001b[0m\n\u001b[0;32m   1307\u001b[0m             \u001b[1;32mif\u001b[0m \u001b[0mlp\u001b[0m\u001b[1;33m.\u001b[0m\u001b[0msense\u001b[0m \u001b[1;33m==\u001b[0m \u001b[0mLpMaximize\u001b[0m\u001b[1;33m:\u001b[0m\u001b[1;33m\u001b[0m\u001b[0m\n",
        "\u001b[1;32mC:\\Anaconda\\lib\\site-packages\\pulp\\pulp.pyc\u001b[0m in \u001b[0;36mwriteMPS\u001b[1;34m(self, filename, mpsSense, rename, mip)\u001b[0m\n\u001b[0;32m   1377\u001b[0m             \u001b[0mcobj\u001b[0m\u001b[1;33m.\u001b[0m\u001b[0mname\u001b[0m \u001b[1;33m=\u001b[0m \u001b[0mn\u001b[0m\u001b[1;33m\u001b[0m\u001b[0m\n\u001b[0;32m   1378\u001b[0m         \u001b[1;32mif\u001b[0m \u001b[0mrename\u001b[0m\u001b[1;33m:\u001b[0m\u001b[1;33m\u001b[0m\u001b[0m\n\u001b[1;32m-> 1379\u001b[1;33m             \u001b[0mconstraintsNames\u001b[0m\u001b[1;33m,\u001b[0m \u001b[0mvariablesNames\u001b[0m\u001b[1;33m,\u001b[0m \u001b[0mcobj\u001b[0m\u001b[1;33m.\u001b[0m\u001b[0mname\u001b[0m \u001b[1;33m=\u001b[0m \u001b[0mself\u001b[0m\u001b[1;33m.\u001b[0m\u001b[0mnormalisedNames\u001b[0m\u001b[1;33m(\u001b[0m\u001b[1;33m)\u001b[0m\u001b[1;33m\u001b[0m\u001b[0m\n\u001b[0m\u001b[0;32m   1380\u001b[0m         \u001b[0mf\u001b[0m\u001b[1;33m.\u001b[0m\u001b[0mwrite\u001b[0m\u001b[1;33m(\u001b[0m\u001b[1;34m\"*SENSE:\"\u001b[0m\u001b[1;33m+\u001b[0m\u001b[0mLpSenses\u001b[0m\u001b[1;33m[\u001b[0m\u001b[0mmpsSense\u001b[0m\u001b[1;33m]\u001b[0m\u001b[1;33m+\u001b[0m\u001b[1;34m\"\\n\"\u001b[0m\u001b[1;33m)\u001b[0m\u001b[1;33m\u001b[0m\u001b[0m\n\u001b[0;32m   1381\u001b[0m         \u001b[0mn\u001b[0m \u001b[1;33m=\u001b[0m \u001b[0mself\u001b[0m\u001b[1;33m.\u001b[0m\u001b[0mname\u001b[0m\u001b[1;33m\u001b[0m\u001b[0m\n",
        "\u001b[1;32mC:\\Anaconda\\lib\\site-packages\\pulp\\pulp.pyc\u001b[0m in \u001b[0;36mnormalisedNames\u001b[1;34m(self)\u001b[0m\n\u001b[0;32m   1151\u001b[0m         \u001b[0mvariablesNames\u001b[0m \u001b[1;33m=\u001b[0m \u001b[1;33m{\u001b[0m\u001b[1;33m}\u001b[0m\u001b[1;33m\u001b[0m\u001b[0m\n\u001b[0;32m   1152\u001b[0m         \u001b[0mi\u001b[0m \u001b[1;33m=\u001b[0m \u001b[1;36m0\u001b[0m\u001b[1;33m\u001b[0m\u001b[0m\n\u001b[1;32m-> 1153\u001b[1;33m         \u001b[1;32mfor\u001b[0m \u001b[0mk\u001b[0m \u001b[1;32min\u001b[0m \u001b[0mself\u001b[0m\u001b[1;33m.\u001b[0m\u001b[0mvariables\u001b[0m\u001b[1;33m(\u001b[0m\u001b[1;33m)\u001b[0m\u001b[1;33m:\u001b[0m\u001b[1;33m\u001b[0m\u001b[0m\n\u001b[0m\u001b[0;32m   1154\u001b[0m             \u001b[0mvariablesNames\u001b[0m\u001b[1;33m[\u001b[0m\u001b[0mk\u001b[0m\u001b[1;33m.\u001b[0m\u001b[0mname\u001b[0m\u001b[1;33m]\u001b[0m \u001b[1;33m=\u001b[0m \u001b[1;34m\"X%07d\"\u001b[0m \u001b[1;33m%\u001b[0m \u001b[0mi\u001b[0m\u001b[1;33m\u001b[0m\u001b[0m\n\u001b[0;32m   1155\u001b[0m             \u001b[0mi\u001b[0m \u001b[1;33m+=\u001b[0m \u001b[1;36m1\u001b[0m\u001b[1;33m\u001b[0m\u001b[0m\n",
        "\u001b[1;32mC:\\Anaconda\\lib\\site-packages\\pulp\\pulp.pyc\u001b[0m in \u001b[0;36mvariables\u001b[1;34m(self)\u001b[0m\n\u001b[0;32m   1234\u001b[0m         \u001b[0mvariables\u001b[0m \u001b[1;33m=\u001b[0m \u001b[0mself\u001b[0m\u001b[1;33m.\u001b[0m\u001b[0m_variables\u001b[0m\u001b[1;33m\u001b[0m\u001b[0m\n\u001b[0;32m   1235\u001b[0m         \u001b[1;31m#sort the varibles DSU\u001b[0m\u001b[1;33m\u001b[0m\u001b[1;33m\u001b[0m\u001b[0m\n\u001b[1;32m-> 1236\u001b[1;33m         \u001b[0mvariables\u001b[0m \u001b[1;33m=\u001b[0m \u001b[1;33m[\u001b[0m\u001b[1;33m[\u001b[0m\u001b[0mv\u001b[0m\u001b[1;33m.\u001b[0m\u001b[0mname\u001b[0m\u001b[1;33m,\u001b[0m \u001b[0mv\u001b[0m\u001b[1;33m]\u001b[0m \u001b[1;32mfor\u001b[0m \u001b[0mv\u001b[0m \u001b[1;32min\u001b[0m \u001b[0mvariables\u001b[0m\u001b[1;33m]\u001b[0m\u001b[1;33m\u001b[0m\u001b[0m\n\u001b[0m\u001b[0;32m   1237\u001b[0m         \u001b[0mvariables\u001b[0m\u001b[1;33m.\u001b[0m\u001b[0msort\u001b[0m\u001b[1;33m(\u001b[0m\u001b[1;33m)\u001b[0m\u001b[1;33m\u001b[0m\u001b[0m\n\u001b[0;32m   1238\u001b[0m         \u001b[0mvariables\u001b[0m \u001b[1;33m=\u001b[0m \u001b[1;33m[\u001b[0m\u001b[0mv\u001b[0m \u001b[1;32mfor\u001b[0m \u001b[0m_\u001b[0m\u001b[1;33m,\u001b[0m \u001b[0mv\u001b[0m \u001b[1;32min\u001b[0m \u001b[0mvariables\u001b[0m\u001b[1;33m]\u001b[0m\u001b[1;33m\u001b[0m\u001b[0m\n",
        "\u001b[1;31mAttributeError\u001b[0m: 'numpy.int32' object has no attribute 'name'"
       ]
      }
     ],
     "prompt_number": 25
    },
    {
     "cell_type": "code",
     "collapsed": false,
     "input": [
      "p2 = pstats.Stats('deastats2')\n",
      "p2.strip_dirs().sort_stats('cumtime').print_stats(10)"
     ],
     "language": "python",
     "metadata": {},
     "outputs": [
      {
       "ename": "IOError",
       "evalue": "[Errno 2] No such file or directory: 'deastats2'",
       "output_type": "pyerr",
       "traceback": [
        "\u001b[1;31m---------------------------------------------------------------------------\u001b[0m\n\u001b[1;31mIOError\u001b[0m                                   Traceback (most recent call last)",
        "\u001b[1;32m<ipython-input-26-770c9e017afa>\u001b[0m in \u001b[0;36m<module>\u001b[1;34m()\u001b[0m\n\u001b[1;32m----> 1\u001b[1;33m \u001b[0mp2\u001b[0m \u001b[1;33m=\u001b[0m \u001b[0mpstats\u001b[0m\u001b[1;33m.\u001b[0m\u001b[0mStats\u001b[0m\u001b[1;33m(\u001b[0m\u001b[1;34m'deastats2'\u001b[0m\u001b[1;33m)\u001b[0m\u001b[1;33m\u001b[0m\u001b[0m\n\u001b[0m\u001b[0;32m      2\u001b[0m \u001b[0mp2\u001b[0m\u001b[1;33m.\u001b[0m\u001b[0mstrip_dirs\u001b[0m\u001b[1;33m(\u001b[0m\u001b[1;33m)\u001b[0m\u001b[1;33m.\u001b[0m\u001b[0msort_stats\u001b[0m\u001b[1;33m(\u001b[0m\u001b[1;34m'cumtime'\u001b[0m\u001b[1;33m)\u001b[0m\u001b[1;33m.\u001b[0m\u001b[0mprint_stats\u001b[0m\u001b[1;33m(\u001b[0m\u001b[1;36m10\u001b[0m\u001b[1;33m)\u001b[0m\u001b[1;33m\u001b[0m\u001b[0m\n",
        "\u001b[1;32mC:\\Anaconda\\lib\\pstats.pyc\u001b[0m in \u001b[0;36m__init__\u001b[1;34m(self, *args, **kwds)\u001b[0m\n\u001b[0;32m     79\u001b[0m             \u001b[0marg\u001b[0m \u001b[1;33m=\u001b[0m \u001b[0margs\u001b[0m\u001b[1;33m[\u001b[0m\u001b[1;36m0\u001b[0m\u001b[1;33m]\u001b[0m\u001b[1;33m\u001b[0m\u001b[0m\n\u001b[0;32m     80\u001b[0m             \u001b[0margs\u001b[0m \u001b[1;33m=\u001b[0m \u001b[0margs\u001b[0m\u001b[1;33m[\u001b[0m\u001b[1;36m1\u001b[0m\u001b[1;33m:\u001b[0m\u001b[1;33m]\u001b[0m\u001b[1;33m\u001b[0m\u001b[0m\n\u001b[1;32m---> 81\u001b[1;33m         \u001b[0mself\u001b[0m\u001b[1;33m.\u001b[0m\u001b[0minit\u001b[0m\u001b[1;33m(\u001b[0m\u001b[0marg\u001b[0m\u001b[1;33m)\u001b[0m\u001b[1;33m\u001b[0m\u001b[0m\n\u001b[0m\u001b[0;32m     82\u001b[0m         \u001b[0mself\u001b[0m\u001b[1;33m.\u001b[0m\u001b[0madd\u001b[0m\u001b[1;33m(\u001b[0m\u001b[1;33m*\u001b[0m\u001b[0margs\u001b[0m\u001b[1;33m)\u001b[0m\u001b[1;33m\u001b[0m\u001b[0m\n\u001b[0;32m     83\u001b[0m \u001b[1;33m\u001b[0m\u001b[0m\n",
        "\u001b[1;32mC:\\Anaconda\\lib\\pstats.pyc\u001b[0m in \u001b[0;36minit\u001b[1;34m(self, arg)\u001b[0m\n\u001b[0;32m     93\u001b[0m         \u001b[0mself\u001b[0m\u001b[1;33m.\u001b[0m\u001b[0mstats\u001b[0m \u001b[1;33m=\u001b[0m \u001b[1;33m{\u001b[0m\u001b[1;33m}\u001b[0m\u001b[1;33m\u001b[0m\u001b[0m\n\u001b[0;32m     94\u001b[0m         \u001b[0mself\u001b[0m\u001b[1;33m.\u001b[0m\u001b[0msort_arg_dict\u001b[0m \u001b[1;33m=\u001b[0m \u001b[1;33m{\u001b[0m\u001b[1;33m}\u001b[0m\u001b[1;33m\u001b[0m\u001b[0m\n\u001b[1;32m---> 95\u001b[1;33m         \u001b[0mself\u001b[0m\u001b[1;33m.\u001b[0m\u001b[0mload_stats\u001b[0m\u001b[1;33m(\u001b[0m\u001b[0marg\u001b[0m\u001b[1;33m)\u001b[0m\u001b[1;33m\u001b[0m\u001b[0m\n\u001b[0m\u001b[0;32m     96\u001b[0m         \u001b[0mtrouble\u001b[0m \u001b[1;33m=\u001b[0m \u001b[1;36m1\u001b[0m\u001b[1;33m\u001b[0m\u001b[0m\n\u001b[0;32m     97\u001b[0m         \u001b[1;32mtry\u001b[0m\u001b[1;33m:\u001b[0m\u001b[1;33m\u001b[0m\u001b[0m\n",
        "\u001b[1;32mC:\\Anaconda\\lib\\pstats.pyc\u001b[0m in \u001b[0;36mload_stats\u001b[1;34m(self, arg)\u001b[0m\n\u001b[0;32m    107\u001b[0m         \u001b[1;32mif\u001b[0m \u001b[1;32mnot\u001b[0m \u001b[0marg\u001b[0m\u001b[1;33m:\u001b[0m  \u001b[0mself\u001b[0m\u001b[1;33m.\u001b[0m\u001b[0mstats\u001b[0m \u001b[1;33m=\u001b[0m \u001b[1;33m{\u001b[0m\u001b[1;33m}\u001b[0m\u001b[1;33m\u001b[0m\u001b[0m\n\u001b[0;32m    108\u001b[0m         \u001b[1;32melif\u001b[0m \u001b[0misinstance\u001b[0m\u001b[1;33m(\u001b[0m\u001b[0marg\u001b[0m\u001b[1;33m,\u001b[0m \u001b[0mbasestring\u001b[0m\u001b[1;33m)\u001b[0m\u001b[1;33m:\u001b[0m\u001b[1;33m\u001b[0m\u001b[0m\n\u001b[1;32m--> 109\u001b[1;33m             \u001b[0mf\u001b[0m \u001b[1;33m=\u001b[0m \u001b[0mopen\u001b[0m\u001b[1;33m(\u001b[0m\u001b[0marg\u001b[0m\u001b[1;33m,\u001b[0m \u001b[1;34m'rb'\u001b[0m\u001b[1;33m)\u001b[0m\u001b[1;33m\u001b[0m\u001b[0m\n\u001b[0m\u001b[0;32m    110\u001b[0m             \u001b[0mself\u001b[0m\u001b[1;33m.\u001b[0m\u001b[0mstats\u001b[0m \u001b[1;33m=\u001b[0m \u001b[0mmarshal\u001b[0m\u001b[1;33m.\u001b[0m\u001b[0mload\u001b[0m\u001b[1;33m(\u001b[0m\u001b[0mf\u001b[0m\u001b[1;33m)\u001b[0m\u001b[1;33m\u001b[0m\u001b[0m\n\u001b[0;32m    111\u001b[0m             \u001b[0mf\u001b[0m\u001b[1;33m.\u001b[0m\u001b[0mclose\u001b[0m\u001b[1;33m(\u001b[0m\u001b[1;33m)\u001b[0m\u001b[1;33m\u001b[0m\u001b[0m\n",
        "\u001b[1;31mIOError\u001b[0m: [Errno 2] No such file or directory: 'deastats2'"
       ]
      }
     ],
     "prompt_number": 26
    },
    {
     "cell_type": "code",
     "collapsed": false,
     "input": [],
     "language": "python",
     "metadata": {},
     "outputs": []
    }
   ],
   "metadata": {}
  }
 ]
}