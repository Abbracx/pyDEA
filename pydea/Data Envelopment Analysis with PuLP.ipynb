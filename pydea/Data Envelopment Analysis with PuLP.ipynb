{
 "metadata": {
  "name": "",
  "signature": "sha256:75eb0e3a09a605514de6458226520281dd1e25ebb52fa9bc268e01c668d827a0"
 },
 "nbformat": 3,
 "nbformat_minor": 0,
 "worksheets": [
  {
   "cells": [
    {
     "cell_type": "markdown",
     "metadata": {},
     "source": [
      "#A data envelopment analysis module using PuLP"
     ]
    },
    {
     "cell_type": "markdown",
     "metadata": {},
     "source": [
      "##The linear programming problem"
     ]
    },
    {
     "cell_type": "code",
     "collapsed": false,
     "input": [
      "%%latex\n",
      "An input-oriented DEA model with constant returns to scale is solved with the following LP model:\n",
      "\n",
      "\\begin{equation}\n",
      "\\max e_{j_0} = \\sum_r u_r y_{rj_0} - \\mu_0\n",
      "\\end{equation}\n",
      "\n",
      "subject to\n",
      "\n",
      "\\begin{aligned}\n",
      "\\sum_i v_i x_{ij_0} &= 1 \\\\\n",
      "\\sum_r u_r y_{rj} - \\sum_i v_i x_{ij} - \\mu_0 &\\leq 0, \\quad j \\in 1, 2, \\ldots, n \\\\\n",
      "u_r, v_i &\\geq \\varepsilon\n",
      "\\end{aligned}\n",
      "\n",
      "where\n",
      "\n",
      "\\begin{aligned}\n",
      "x_{ij} &= \\mbox{quantity of input } i \\mbox{ for unit } j \\\\\n",
      "v_{i} &= \\mbox{weight attached to input } i \\\\\n",
      "y_{ij} &= \\mbox{quantity of output } r \\mbox{ for unit } j \\\\\n",
      "u_{i} &= \\mbox{weight attached to output } r \\\\\n",
      "e_{j_0} &= \\mbox{efficiency score} \\\\\n",
      "\\mu_0 &= \\mbox{VRS parameter} \\\\\n",
      "j_0 &= \\mbox{DMU under analysis} \\\\\n",
      "\\end{aligned}\n",
      "\n",
      "Input and output quantities are fixed by the data, weights are the decision variables and the efficiency score is the output."
     ],
     "language": "python",
     "metadata": {},
     "outputs": [
      {
       "latex": [
        "An input-oriented DEA model with constant returns to scale is solved with the following LP model:\n",
        "\n",
        "\\begin{equation}\n",
        "\\max e_{j_0} = \\sum_r u_r y_{rj_0} - \\mu_0\n",
        "\\end{equation}\n",
        "\n",
        "subject to\n",
        "\n",
        "\\begin{aligned}\n",
        "\\sum_i v_i x_{ij_0} &= 1 \\\\\n",
        "\\sum_r u_r y_{rj} - \\sum_i v_i x_{ij} - \\mu_0 &\\leq 0, \\quad j \\in 1, 2, \\ldots, n \\\\\n",
        "u_r, v_i &\\geq \\varepsilon\n",
        "\\end{aligned}\n",
        "\n",
        "where\n",
        "\n",
        "\\begin{aligned}\n",
        "x_{ij} &= \\mbox{quantity of input } i \\mbox{ for unit } j \\\\\n",
        "v_{i} &= \\mbox{weight attached to input } i \\\\\n",
        "y_{ij} &= \\mbox{quantity of output } r \\mbox{ for unit } j \\\\\n",
        "u_{i} &= \\mbox{weight attached to output } r \\\\\n",
        "e_{j_0} &= \\mbox{efficiency score} \\\\\n",
        "\\mu_0 &= \\mbox{VRS parameter} \\\\\n",
        "j_0 &= \\mbox{DMU under analysis} \\\\\n",
        "\\end{aligned}\n",
        "\n",
        "Input and output quantities are fixed by the data, weights are the decision variables and the efficiency score is the output."
       ],
       "metadata": {},
       "output_type": "display_data",
       "text": [
        "<IPython.core.display.Latex at 0x49fce80>"
       ]
      }
     ],
     "prompt_number": 69
    },
    {
     "cell_type": "markdown",
     "metadata": {},
     "source": [
      "##Set up tests"
     ]
    },
    {
     "cell_type": "markdown",
     "metadata": {},
     "source": [
      "Data below is from [this paper](http://www.wbs.ac.uk/downloads/working_papers/352.pdf) and is used to validate the outputs of the DEA routine.\n",
      "\n",
      "Output should be:\n",
      "\n",
      "    DMU u1       u2     u3     v1     v2     efficiency\n",
      "    A   0.0006   0      0.0014 0.01   0      96.20%\n",
      "    B   0        0.004  0.0024 0.0083 0      79.88%\n",
      "    C   0        0.0096 0.0057 0.02   0      100.00%\n",
      "    D   0        0.0068 0.0056 0.0121 0.011  100.00%\n",
      "    E   0        0.0051 0      0.0102 0      100.00%\n",
      "    F   0.0009   0      0.0081 0.0021 0.0699 100.00%"
     ]
    },
    {
     "cell_type": "code",
     "collapsed": false,
     "input": [
      "#%%tests/dea_tests.py\n",
      "\n",
      "import nose\n",
      "import numpy as np\n",
      "from pydea import DEA\n",
      "\n",
      "inputs = np.array([[100, 70], [120, 123], [50, 20], [67, 17], [98, 20], [76, 12]])\n",
      "outputs = np.array([[1540, 154, 59], [1408, 186, 23 ], [690, 59, 76], [674, 73, 90], [1686, 197, 12], [982, 63, 15]])\n",
      "\n",
      "# Check that all major scrape calls are returning the right data type\n",
      "\n",
      "def test_from_ONS_returns_dataframe():\n",
      "    \"Test that scrape.from_ONS returns a pandas dataframe\"\n",
      "    test_frame = scrape.from_ONS('qna', ['YBHA', 'ABMI'], 'Q')\n",
      "    nose.tools.assert_true(type(test_frame) == pd.core.frame.DataFrame)\n",
      "\n",
      "\n",
      "def test_from_BoE_returns_dataframe():\n",
      "    \"Test that scrape.from_BoE returns a pandas dataframe\"\n",
      "    test_frame = scrape.from_BoE(\n",
      "        ['LPMAUZI', 'LPMAVAA'], datefrom=pd.datetime(2007, 8, 1))\n",
      "    nose.tools.assert_true(type(test_frame) == pd.core.frame.DataFrame)\n",
      "\n",
      "\n",
      "def test_from_weo_returns_panel():\n",
      "    \"Test that scrape.from_IMF returns a pandas panel on the WEO dataset\"\n",
      "    test_frame = scrape.from_IMF(\n",
      "        'weo', series=['GGSB_NPGDP', 'GGX_NGDP'], countries=['United Kingdom'])\n",
      "    nose.tools.assert_true(type(test_frame) == pd.core.panel.Panel)\n",
      "\n",
      "\n",
      "def test_from_pubfin_returns_panel():\n",
      "    \"Test that scrape.from_IMF returns a pandas panel on the Public Finances dataset\"\n",
      "    test_frame = scrape.from_IMF(\n",
      "        'pubfin', series=['rev', 'prim_exp'], countries=['United Kingdom'])\n",
      "    nose.tools.assert_true(type(test_frame) == pd.core.panel.Panel)\n"
     ],
     "language": "python",
     "metadata": {},
     "outputs": [],
     "prompt_number": 259
    },
    {
     "cell_type": "markdown",
     "metadata": {},
     "source": [
      "##Class to solve the problem with PuLP"
     ]
    },
    {
     "cell_type": "code",
     "collapsed": false,
     "input": [
      "#%%file dea.py\n",
      "import numpy as np\n",
      "import pulp\n",
      "\n",
      "\n",
      "class DEA:\n",
      "    \"\"\"\n",
      "    A container for the elements of a data envelopment analysis problem. Sets up the linear programmes and solves them with pulp.\n",
      "    \n",
      "    Requires:\n",
      "    \n",
      "        inputs: a numpy array of the inputs to the DMUs\n",
      "        outputs: a numpy array of the outputs from the DMUs\n",
      "        kind: 'VRS' or 'CRS'    \n",
      "    \"\"\"\n",
      "    def __init__(self, inputs, outputs, kind='CRS'):\n",
      "        self.inputs = inputs\n",
      "        self.outputs = outputs\n",
      "        self.returns = kind\n",
      "               \n",
      "        self.J, self.I = self.inputs.shape  # no of firms, inputs\n",
      "        self.R = self.outputs.shape[1]  # no of outputs\n",
      "        self._i = np.arange(self.I)  # inputs\n",
      "        self._r = np.arange(self.R)  # outputs\n",
      "        self._j = np.arange(self.J)  # DMUs\n",
      "        \n",
      "        assert self.inputs.shape[0] == self.outputs.shape[0]  # check the inputs and outputs have the same number of DMUs\n",
      "        \n",
      "        self.dmus = self._create_problems()  # creates dictionary of pulp.LpProblem objects for the DMUs\n",
      "\n",
      "    def _create_problems(self):\n",
      "        dmu_dict = {}\n",
      "        for j0 in np.arange(self.inputs.shape[0]):\n",
      "            dmu_dict[j0] = self._make_problem(self.inputs, self.outputs, j0, self.returns)\n",
      "        return dmu_dict\n",
      "    \n",
      "    def _make_problem(self, inputs, outputs, j0, returns):\n",
      "        ##Set up pulp\n",
      "        prob = pulp.LpProblem(\"DMU_\"+str(j0), pulp.LpMaximize)\n",
      "        self.inputWeights = pulp.LpVariable.dicts(\"inputWeight\", (self._j, self._i), lowBound=0)\n",
      "        self.outputWeights = pulp.LpVariable.dicts(\"outputWeight\", (self._j, self._r), lowBound=0)\n",
      "                \n",
      "        ##Set returns to scale\n",
      "        if returns == \"CRS\":\n",
      "            w = 0\n",
      "        elif returns == \"VRS\":\n",
      "            w = pulp.LpVariable.dicts(\"w\", (self._j, self._r))\n",
      "        else:\n",
      "            raise Exception(ValueError)\n",
      "\n",
      "        ##Set up objective function\n",
      "        prob += sum([self.outputs[j0][r1] * self.outputWeights[j0][r1] for r1 in self._r]) - w\n",
      "\n",
      "        ##Set up constraints\n",
      "        prob += sum([self.inputs[j0][i1] * self.inputWeights[j0][i1] for i1 in self._i]) == 1, \"Norm_constraint\"\n",
      "        for j1 in self._j:\n",
      "            prob += self._dmu_constraint(j0, j1, self._i, self._r)  - w <= 0, \"DMU_constraint_\" + str(j1)\n",
      "        return prob\n",
      "    \n",
      "    def _dmu_constraint(self, j0, j1, i, r):\n",
      "        eOut = sum([self.outputs[j1][r1] * self.outputWeights[j0][r1] for r1 in r])\n",
      "        eIn = sum([self.inputs[j1][i1] * self.inputWeights[j0][i1] for i1 in i])\n",
      "        return eOut - eIn     \n",
      "\n",
      "    def solve(self):\n",
      "        self.status = {}\n",
      "        self.weights = {}\n",
      "        self.efficiency = {}\n",
      "        for ind, problem in self.dmus.iteritems():\n",
      "            problem.solve()\n",
      "            self.status[ind] = pulp.LpStatus[problem.status]\n",
      "            self.weights[ind] = {}\n",
      "            for v in problem.variables():\n",
      "                self.weights[ind][v.name] = v.varValue\n",
      "            self.efficiency[ind] = pulp.value(problem.objective)"
     ],
     "language": "python",
     "metadata": {},
     "outputs": [
      {
       "output_type": "stream",
       "stream": "stdout",
       "text": [
        "Writing dea.py\n"
       ]
      }
     ],
     "prompt_number": 80
    },
    {
     "cell_type": "markdown",
     "metadata": {},
     "source": [
      "##Test area"
     ]
    },
    {
     "cell_type": "code",
     "collapsed": false,
     "input": [
      "myprob = DEA(inputs, outputs, kind='VRS')"
     ],
     "language": "python",
     "metadata": {},
     "outputs": [],
     "prompt_number": 63
    },
    {
     "cell_type": "code",
     "collapsed": false,
     "input": [
      "myprob.solve()"
     ],
     "language": "python",
     "metadata": {},
     "outputs": [],
     "prompt_number": 64
    },
    {
     "cell_type": "code",
     "collapsed": false,
     "input": [
      "myprob.status"
     ],
     "language": "python",
     "metadata": {},
     "outputs": [
      {
       "metadata": {},
       "output_type": "pyout",
       "prompt_number": 65,
       "text": [
        "{0: 'Optimal',\n",
        " 1: 'Optimal',\n",
        " 2: 'Optimal',\n",
        " 3: 'Optimal',\n",
        " 4: 'Optimal',\n",
        " 5: 'Optimal'}"
       ]
      }
     ],
     "prompt_number": 65
    },
    {
     "cell_type": "code",
     "collapsed": false,
     "input": [
      "myprob.efficiency"
     ],
     "language": "python",
     "metadata": {},
     "outputs": [
      {
       "metadata": {},
       "output_type": "pyout",
       "prompt_number": 66,
       "text": [
        "{0: 0.9999999989,\n",
        " 1: 0.8154810081999999,\n",
        " 2: 1.0,\n",
        " 3: 1.000000003,\n",
        " 4: 1.0000000026,\n",
        " 5: 1.0}"
       ]
      }
     ],
     "prompt_number": 66
    },
    {
     "cell_type": "code",
     "collapsed": false,
     "input": [
      "myprob.weights"
     ],
     "language": "python",
     "metadata": {},
     "outputs": [
      {
       "metadata": {},
       "output_type": "pyout",
       "prompt_number": 57,
       "text": [
        "{0: {'inputWeight_0_0': 0.01,\n",
        "  'inputWeight_0_1': 0.0,\n",
        "  'outputWeight_0_0': 0.00057135229,\n",
        "  'outputWeight_0_1': 0.0,\n",
        "  'outputWeight_0_2': 0.00139167},\n",
        " 1: {'inputWeight_1_0': 0.0083333333,\n",
        "  'inputWeight_1_1': 0.0,\n",
        "  'outputWeight_1_0': 0.0,\n",
        "  'outputWeight_1_1': 0.0040007478,\n",
        "  'outputWeight_1_2': 0.0023766125},\n",
        " 2: {'inputWeight_2_0': 0.02,\n",
        "  'inputWeight_2_1': 0.0,\n",
        "  'outputWeight_2_0': 0.0011427046,\n",
        "  'outputWeight_2_1': 0.0,\n",
        "  'outputWeight_2_2': 0.00278334},\n",
        " 3: {'inputWeight_3_0': 1.6570493e-18,\n",
        "  'inputWeight_3_1': 0.058823529,\n",
        "  'outputWeight_3_0': 0.0,\n",
        "  'outputWeight_3_1': 0.0055703307,\n",
        "  'outputWeight_3_2': 0.006592954},\n",
        " 4: {'inputWeight_4_0': 0.0,\n",
        "  'inputWeight_4_1': 0.05,\n",
        "  'outputWeight_4_0': 0.00049873883,\n",
        "  'outputWeight_4_1': 0.00048387149,\n",
        "  'outputWeight_4_2': 0.0053169712},\n",
        " 5: {'inputWeight_5_0': 0.0,\n",
        "  'inputWeight_5_1': 0.083333333,\n",
        "  'outputWeight_5_0': 0.00087836975,\n",
        "  'outputWeight_5_1': 0.0,\n",
        "  'outputWeight_5_2': 0.0091627273}}"
       ]
      }
     ],
     "prompt_number": 57
    },
    {
     "cell_type": "code",
     "collapsed": false,
     "input": [
      "myprob.R"
     ],
     "language": "python",
     "metadata": {},
     "outputs": [
      {
       "metadata": {},
       "output_type": "pyout",
       "prompt_number": 79,
       "text": [
        "3L"
       ]
      }
     ],
     "prompt_number": 79
    }
   ],
   "metadata": {}
  }
 ]
}