{
 "metadata": {
  "name": "",
  "signature": "sha256:49e27a63bad37bf69c18bb14e0ce3456786a2e9b66608818e3319926fe898858"
 },
 "nbformat": 3,
 "nbformat_minor": 0,
 "worksheets": [
  {
   "cells": [
    {
     "cell_type": "markdown",
     "metadata": {},
     "source": [
      "#Simple university example\n",
      "\n",
      "Drawn from [this paper](http://www.wbs.ac.uk/downloads/working_papers/352.pdf) and augmented to allow correlation with environmental variables.\n",
      "\n",
      "##Create the input data\n",
      "\n",
      "Data is constructed as a `pandas` dataframe."
     ]
    },
    {
     "cell_type": "code",
     "collapsed": false,
     "input": [
      "import pandas as pd\n",
      "import matplotlib.pyplot as plt\n",
      "import seaborn as sns\n",
      "import pydea\n",
      "\n",
      "%matplotlib inline\n",
      "\n",
      "inputs = pd.DataFrame([[100, 70], [120, 123], [50, 20], [67, 17], [98, 20], [76, 12]], columns=['Teaching staff', 'Research staff'])\n",
      "outputs = pd.DataFrame([[1540, 154, 59], [1408, 186, 23 ], [690, 59, 76], [674, 73, 90], [1686, 197, 12], [982, 63, 15]], columns=['Undergraduates', 'Masters', 'Publications'])\n",
      "env_vars = pd.DataFrame([[  5.15262633e+00,   5.25431862e+03],\n",
      "       [  8.62019738e+00,   1.10390901e+04],\n",
      "       [  3.95821220e+00,   5.88356035e+03],\n",
      "       [  9.21476691e+00,   1.54834181e+03],\n",
      "       [  2.96674662e-01,   1.40433297e+04],\n",
      "       [  1.41538397e+01,   3.75047428e+03]], columns=['Funding', 'City_size'])"
     ],
     "language": "python",
     "metadata": {},
     "outputs": [],
     "prompt_number": 29
    },
    {
     "cell_type": "code",
     "collapsed": false,
     "input": [
      "inputs"
     ],
     "language": "python",
     "metadata": {},
     "outputs": [
      {
       "html": [
        "<div style=\"max-height:1000px;max-width:1500px;overflow:auto;\">\n",
        "<table border=\"1\" class=\"dataframe\">\n",
        "  <thead>\n",
        "    <tr style=\"text-align: right;\">\n",
        "      <th></th>\n",
        "      <th>Teaching staff</th>\n",
        "      <th>Research staff</th>\n",
        "    </tr>\n",
        "  </thead>\n",
        "  <tbody>\n",
        "    <tr>\n",
        "      <th>0</th>\n",
        "      <td> 100</td>\n",
        "      <td>  70</td>\n",
        "    </tr>\n",
        "    <tr>\n",
        "      <th>1</th>\n",
        "      <td> 120</td>\n",
        "      <td> 123</td>\n",
        "    </tr>\n",
        "    <tr>\n",
        "      <th>2</th>\n",
        "      <td>  50</td>\n",
        "      <td>  20</td>\n",
        "    </tr>\n",
        "    <tr>\n",
        "      <th>3</th>\n",
        "      <td>  67</td>\n",
        "      <td>  17</td>\n",
        "    </tr>\n",
        "    <tr>\n",
        "      <th>4</th>\n",
        "      <td>  98</td>\n",
        "      <td>  20</td>\n",
        "    </tr>\n",
        "    <tr>\n",
        "      <th>5</th>\n",
        "      <td>  76</td>\n",
        "      <td>  12</td>\n",
        "    </tr>\n",
        "  </tbody>\n",
        "</table>\n",
        "</div>"
       ],
       "metadata": {},
       "output_type": "pyout",
       "prompt_number": 21,
       "text": [
        "   Teaching staff  Research staff\n",
        "0             100              70\n",
        "1             120             123\n",
        "2              50              20\n",
        "3              67              17\n",
        "4              98              20\n",
        "5              76              12"
       ]
      }
     ],
     "prompt_number": 21
    },
    {
     "cell_type": "code",
     "collapsed": false,
     "input": [
      "outputs"
     ],
     "language": "python",
     "metadata": {},
     "outputs": [
      {
       "html": [
        "<div style=\"max-height:1000px;max-width:1500px;overflow:auto;\">\n",
        "<table border=\"1\" class=\"dataframe\">\n",
        "  <thead>\n",
        "    <tr style=\"text-align: right;\">\n",
        "      <th></th>\n",
        "      <th>Undergraduates</th>\n",
        "      <th>Masters</th>\n",
        "      <th>Publications</th>\n",
        "    </tr>\n",
        "  </thead>\n",
        "  <tbody>\n",
        "    <tr>\n",
        "      <th>0</th>\n",
        "      <td> 1540</td>\n",
        "      <td> 154</td>\n",
        "      <td> 59</td>\n",
        "    </tr>\n",
        "    <tr>\n",
        "      <th>1</th>\n",
        "      <td> 1408</td>\n",
        "      <td> 186</td>\n",
        "      <td> 23</td>\n",
        "    </tr>\n",
        "    <tr>\n",
        "      <th>2</th>\n",
        "      <td>  690</td>\n",
        "      <td>  59</td>\n",
        "      <td> 76</td>\n",
        "    </tr>\n",
        "    <tr>\n",
        "      <th>3</th>\n",
        "      <td>  674</td>\n",
        "      <td>  73</td>\n",
        "      <td> 90</td>\n",
        "    </tr>\n",
        "    <tr>\n",
        "      <th>4</th>\n",
        "      <td> 1686</td>\n",
        "      <td> 197</td>\n",
        "      <td> 12</td>\n",
        "    </tr>\n",
        "    <tr>\n",
        "      <th>5</th>\n",
        "      <td>  982</td>\n",
        "      <td>  63</td>\n",
        "      <td> 15</td>\n",
        "    </tr>\n",
        "  </tbody>\n",
        "</table>\n",
        "</div>"
       ],
       "metadata": {},
       "output_type": "pyout",
       "prompt_number": 22,
       "text": [
        "   Undergraduates  Masters  Publications\n",
        "0            1540      154            59\n",
        "1            1408      186            23\n",
        "2             690       59            76\n",
        "3             674       73            90\n",
        "4            1686      197            12\n",
        "5             982       63            15"
       ]
      }
     ],
     "prompt_number": 22
    },
    {
     "cell_type": "code",
     "collapsed": false,
     "input": [
      "env_vars"
     ],
     "language": "python",
     "metadata": {},
     "outputs": [
      {
       "html": [
        "<div style=\"max-height:1000px;max-width:1500px;overflow:auto;\">\n",
        "<table border=\"1\" class=\"dataframe\">\n",
        "  <thead>\n",
        "    <tr style=\"text-align: right;\">\n",
        "      <th></th>\n",
        "      <th>Funding</th>\n",
        "      <th>City size</th>\n",
        "    </tr>\n",
        "  </thead>\n",
        "  <tbody>\n",
        "    <tr>\n",
        "      <th>0</th>\n",
        "      <td>  5.152626</td>\n",
        "      <td>  5254.31862</td>\n",
        "    </tr>\n",
        "    <tr>\n",
        "      <th>1</th>\n",
        "      <td>  8.620197</td>\n",
        "      <td> 11039.09010</td>\n",
        "    </tr>\n",
        "    <tr>\n",
        "      <th>2</th>\n",
        "      <td>  3.958212</td>\n",
        "      <td>  5883.56035</td>\n",
        "    </tr>\n",
        "    <tr>\n",
        "      <th>3</th>\n",
        "      <td>  9.214767</td>\n",
        "      <td>  1548.34181</td>\n",
        "    </tr>\n",
        "    <tr>\n",
        "      <th>4</th>\n",
        "      <td>  0.296675</td>\n",
        "      <td> 14043.32970</td>\n",
        "    </tr>\n",
        "    <tr>\n",
        "      <th>5</th>\n",
        "      <td> 14.153840</td>\n",
        "      <td>  3750.47428</td>\n",
        "    </tr>\n",
        "  </tbody>\n",
        "</table>\n",
        "</div>"
       ],
       "metadata": {},
       "output_type": "pyout",
       "prompt_number": 23,
       "text": [
        "     Funding    City size\n",
        "0   5.152626   5254.31862\n",
        "1   8.620197  11039.09010\n",
        "2   3.958212   5883.56035\n",
        "3   9.214767   1548.34181\n",
        "4   0.296675  14043.32970\n",
        "5  14.153840   3750.47428"
       ]
      }
     ],
     "prompt_number": 23
    },
    {
     "cell_type": "markdown",
     "metadata": {},
     "source": [
      "##Build and solve the DEA object"
     ]
    },
    {
     "cell_type": "code",
     "collapsed": false,
     "input": [
      "uni_prob = pydea.DEA(inputs, outputs)"
     ],
     "language": "python",
     "metadata": {},
     "outputs": [],
     "prompt_number": 4
    },
    {
     "cell_type": "code",
     "collapsed": false,
     "input": [
      "uni_prob.solve()"
     ],
     "language": "python",
     "metadata": {},
     "outputs": [],
     "prompt_number": 5
    },
    {
     "cell_type": "markdown",
     "metadata": {},
     "source": [
      "##Results"
     ]
    },
    {
     "cell_type": "code",
     "collapsed": false,
     "input": [
      "uni_prob.results[['Status', 'Efficiency']]"
     ],
     "language": "python",
     "metadata": {},
     "outputs": [
      {
       "html": [
        "<div style=\"max-height:1000px;max-width:1500px;overflow:auto;\">\n",
        "<table border=\"1\" class=\"dataframe\">\n",
        "  <thead>\n",
        "    <tr style=\"text-align: right;\">\n",
        "      <th></th>\n",
        "      <th>Status</th>\n",
        "      <th>Efficiency</th>\n",
        "    </tr>\n",
        "  </thead>\n",
        "  <tbody>\n",
        "    <tr>\n",
        "      <th>0</th>\n",
        "      <td> Optimal</td>\n",
        "      <td> 0.961991</td>\n",
        "    </tr>\n",
        "    <tr>\n",
        "      <th>1</th>\n",
        "      <td> Optimal</td>\n",
        "      <td> 0.798801</td>\n",
        "    </tr>\n",
        "    <tr>\n",
        "      <th>2</th>\n",
        "      <td> Optimal</td>\n",
        "      <td> 1.000000</td>\n",
        "    </tr>\n",
        "    <tr>\n",
        "      <th>3</th>\n",
        "      <td> Optimal</td>\n",
        "      <td> 1.000000</td>\n",
        "    </tr>\n",
        "    <tr>\n",
        "      <th>4</th>\n",
        "      <td> Optimal</td>\n",
        "      <td> 1.000000</td>\n",
        "    </tr>\n",
        "    <tr>\n",
        "      <th>5</th>\n",
        "      <td> Optimal</td>\n",
        "      <td> 1.000000</td>\n",
        "    </tr>\n",
        "  </tbody>\n",
        "</table>\n",
        "</div>"
       ],
       "metadata": {},
       "output_type": "pyout",
       "prompt_number": 11,
       "text": [
        "    Status  Efficiency\n",
        "0  Optimal    0.961991\n",
        "1  Optimal    0.798801\n",
        "2  Optimal    1.000000\n",
        "3  Optimal    1.000000\n",
        "4  Optimal    1.000000\n",
        "5  Optimal    1.000000"
       ]
      }
     ],
     "prompt_number": 11
    },
    {
     "cell_type": "markdown",
     "metadata": {},
     "source": [
      "##Distribution of efficiency scores"
     ]
    },
    {
     "cell_type": "code",
     "collapsed": false,
     "input": [
      "uni_prob.results['Efficiency'].hist(bins=50)\n",
      "plt.ylabel('Frequency')\n",
      "plt.xlabel('Efficiency score')\n",
      "plt.title('Distribution of efficiency scores')"
     ],
     "language": "python",
     "metadata": {},
     "outputs": [
      {
       "metadata": {},
       "output_type": "pyout",
       "prompt_number": 24,
       "text": [
        "<matplotlib.text.Text at 0x1800aa58>"
       ]
      },
      {
       "metadata": {},
       "output_type": "display_data",
       "png": "[encoded data removed]",
       "text": [
        "<matplotlib.figure.Figure at 0x178fd358>"
       ]
      }
     ],
     "prompt_number": 24
    },
    {
     "cell_type": "markdown",
     "metadata": {},
     "source": [
      "##Correlation with environment variables"
     ]
    },
    {
     "cell_type": "code",
     "collapsed": false,
     "input": [
      "pydea.tools.env_corr(uni_prob, env_vars)"
     ],
     "language": "python",
     "metadata": {},
     "outputs": [
      {
       "output_type": "stream",
       "stream": "stdout",
       "text": [
        "A logit regression will be used. A censored regression with a Tobit model would be more correct but it is not yet provided by statsmodels.\n",
        "\n",
        "Optimization terminated successfully.\n",
        "         Current function value: 0.066162\n",
        "         Iterations 9\n",
        "        Logit Marginal Effects       \n",
        "=====================================\n",
        "Dep. Variable:             Efficiency\n",
        "Method:                          dydx\n",
        "At:                           overall\n",
        "==============================================================================\n",
        "                dy/dx    std err          z      P>|z|      [95.0% Conf. Int.]\n",
        "------------------------------------------------------------------------------\n",
        "Funding       -0.0126      0.035     -0.359      0.719        -0.081     0.056\n",
        "City_size  -1.696e-05   4.41e-05     -0.385      0.700        -0.000  6.94e-05\n",
        "==============================================================================\n"
       ]
      },
      {
       "metadata": {},
       "output_type": "pyout",
       "prompt_number": 39,
       "text": [
        "<statsmodels.discrete.discrete_model.BinaryResultsWrapper at 0x18d0cb00>"
       ]
      }
     ],
     "prompt_number": 39
    }
   ],
   "metadata": {}
  }
 ]
}